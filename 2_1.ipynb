{
 "cells": [
  {
   "cell_type": "raw",
   "source": [
    "Задание 1\n",
    "Дана переменная, в которой хранится слово из латинских букв. Напишите код, который выводит на экран:\n",
    "* среднюю букву, если число букв в слове нечётное;\n",
    "* две средних буквы, если число букв чётное."
   ],
   "metadata": {
    "collapsed": false
   },
   "id": "9553f9f09a4b4298"
  },
  {
   "cell_type": "code",
   "execution_count": 40,
   "outputs": [
    {
     "name": "stdout",
     "output_type": "stream",
     "text": [
      "t\n"
     ]
    }
   ],
   "source": [
    "#word = 'test'\n",
    "\n",
    "word = 'testing'\n",
    "\n",
    "\n",
    "n = len(word)\n",
    "if n % 2 == 0:\n",
    "    # четное число символов\n",
    "    print(word[n // 2 - 1: n // 2 + 1])\n",
    "else:\n",
    "    #нечетное число символов\n",
    "    print(word[n // 2: n // 2 + 1])"
   ],
   "metadata": {
    "collapsed": false,
    "ExecuteTime": {
     "end_time": "2023-11-19T13:48:12.585107800Z",
     "start_time": "2023-11-19T13:48:12.585107800Z"
    }
   },
   "id": "3ae5f6b3dc5cc756"
  },
  {
   "cell_type": "raw",
   "source": [
    "Задание 2\n",
    "Вы делаете MVP (минимально жизнеспособный продукт) dating-сервиса.\n",
    "У вас есть список юношей и девушек.\n",
    "Выдвигаем гипотезу: лучшие рекомендации получатся, если просто отсортировать имена по алфавиту и познакомить людей с одинаковыми индексами после сортировки. Но вы не будете никого знакомить, если кто-то может остаться без пары."
   ],
   "metadata": {
    "collapsed": false
   },
   "id": "1a60d7c4bd7066a1"
  },
  {
   "cell_type": "code",
   "execution_count": 53,
   "outputs": [
    {
     "name": "stdout",
     "output_type": "stream",
     "text": [
      "Внимание, кто-то может остаться без пары!\n"
     ]
    }
   ],
   "source": [
    "boys = ['Peter', 'Alex', 'John', 'Arthur', 'Richard'] \n",
    "girls = ['Kate', 'Liza', 'Kira', 'Emma', 'Trisha']\n",
    "\n",
    "boys = ['Peter', 'Alex', 'John', 'Arthur', 'Richard', 'Michael'] \n",
    "girls = ['Kate', 'Liza', 'Kira', 'Emma', 'Trisha'] \n",
    "\n",
    "\n",
    "if len(boys) == len(girls):\n",
    "    print('Идеальные пары:')\n",
    "    boys.sort()\n",
    "    girls.sort()\n",
    "    for i in range(len(boys)):\n",
    "        print( f'{boys[i]} и {girls[i]}')\n",
    "else:\n",
    "    print('Внимание, кто-то может остаться без пары!')"
   ],
   "metadata": {
    "collapsed": false,
    "ExecuteTime": {
     "end_time": "2023-11-19T14:22:33.020761200Z",
     "start_time": "2023-11-19T14:22:33.009441800Z"
    }
   },
   "id": "513d46c02753466a"
  }
 ],
 "metadata": {
  "kernelspec": {
   "display_name": "Python 3",
   "language": "python",
   "name": "python3"
  },
  "language_info": {
   "codemirror_mode": {
    "name": "ipython",
    "version": 2
   },
   "file_extension": ".py",
   "mimetype": "text/x-python",
   "name": "python",
   "nbconvert_exporter": "python",
   "pygments_lexer": "ipython2",
   "version": "2.7.6"
  }
 },
 "nbformat": 4,
 "nbformat_minor": 5
}
