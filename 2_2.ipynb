{
 "cells": [
  {
   "cell_type": "raw",
   "source": [
    "Дана переменная, в которой хранится словарь, содержащий гео-метки для каждого пользователя (пример структуры данных приведен ниже). Вам необходимо написать программу,  которая выведет на экран множество уникальных гео-меток всех пользователей."
   ],
   "metadata": {
    "collapsed": false
   },
   "id": "2c9ed698518dccf4"
  },
  {
   "cell_type": "code",
   "execution_count": null,
   "outputs": [],
   "source": [
    "ids = {'user1': [213, 213, 213, 15, 213], \n",
    "       'user2': [54, 54, 119, 119, 119], \n",
    "       'user3': [213, 98, 98, 35]}\n",
    "\n",
    "\n",
    "result = set()\n",
    "for user_tags in ids.values():\n",
    "    [result.add(tag) for tag in user_tags]\n",
    "    \n",
    "print(result)"
   ],
   "metadata": {
    "collapsed": false
   },
   "id": "ecc20771539cabc4"
  },
  {
   "cell_type": "raw",
   "source": [
    "Дана переменная, в которой хранится список поисковых запросов пользователя (пример структуры данных приведен ниже). Вам необходимо написать программу, которая выведет на экран распределение количества слов в запросах в требуемом виде.\n"
   ],
   "metadata": {
    "collapsed": false
   },
   "id": "92e2e3732c5712c7"
  },
  {
   "cell_type": "code",
   "execution_count": null,
   "outputs": [],
   "source": [
    "queries = [\n",
    "    'смотреть сериалы онлайн',\n",
    "    'новости спорта',\n",
    "    'афиша кино',\n",
    "    'курс доллара',\n",
    "    'сериалы этим летом',\n",
    "    'курс по питону',\n",
    "    'сериалы про спорт'\n",
    "]\n",
    "\n",
    "result = {}\n",
    "\n",
    "for query in queries:\n",
    "    n = len(query.split(' '))\n",
    "    if n in result:\n",
    "        result[n] += 1\n",
    "    else:\n",
    "        result[n] = 1\n",
    "\n",
    "\n",
    "for word_count in sorted(result.keys()):\n",
    "   print( f'Поисковых запросов, содержащих {word_count} слов(а): {result[word_count] / len(queries) * 100:.2f}%')"
   ],
   "metadata": {
    "collapsed": false
   },
   "id": "6e9e88afb70a6b23"
  }
 ],
 "metadata": {
  "kernelspec": {
   "display_name": "Python 3",
   "language": "python",
   "name": "python3"
  },
  "language_info": {
   "codemirror_mode": {
    "name": "ipython",
    "version": 2
   },
   "file_extension": ".py",
   "mimetype": "text/x-python",
   "name": "python",
   "nbconvert_exporter": "python",
   "pygments_lexer": "ipython2",
   "version": "2.7.6"
  }
 },
 "nbformat": 4,
 "nbformat_minor": 5
}
