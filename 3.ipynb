{
 "cells": [
  {
   "cell_type": "raw",
   "source": [
    "Задание 1\n",
    "Реализуйте функцию sum_distance(from, to), которая суммирует все числа от значения from до величины to включительно. \n",
    "Примечание. Если пользователь задаст первое число большее чем второе, просто поменяйте их местами."
   ],
   "metadata": {
    "collapsed": false
   },
   "id": "6f03c230c5631eb4"
  },
  {
   "cell_type": "code",
   "execution_count": null,
   "outputs": [],
   "source": [
    "# в задании указано, что 1 параметр должен иметь имя 'from', однако это ключевое слово. Поэтому, параметр был переименован в begin(и второй параметр для единообразия)\n",
    "def sum_distance(begin: int, end: int) -> int:\n",
    "    if begin > end:\n",
    "        begin, end = end, begin\n",
    "    return sum(range(begin, end + 1), 0)"
   ],
   "metadata": {
    "collapsed": false
   },
   "id": "bbdeef862e76a2af"
  },
  {
   "cell_type": "raw",
   "source": [
    "Задание 2\n",
    "Реализуйте функцию trim_and_repeat(), которая принимает три параметра:\n",
    "строку\n",
    "offset — число символов, на которое нужно обрезать строку слева\n",
    "repetitions — сколько раз нужно повторить строку перед возвратом получившейся строки"
   ],
   "metadata": {
    "collapsed": false
   },
   "id": "fa8bbdcbc3b7c081"
  },
  {
   "cell_type": "code",
   "execution_count": null,
   "outputs": [],
   "source": [
    "def trim_and_repeat(src: str, offset: int = 0, repetitions: int = 1) -> str: \n",
    "    return src[offset:] * repetitions"
   ],
   "metadata": {
    "collapsed": false
   },
   "id": "b9383d0014acfc60"
  }
 ],
 "metadata": {
  "kernelspec": {
   "display_name": "Python 3",
   "language": "python",
   "name": "python3"
  },
  "language_info": {
   "codemirror_mode": {
    "name": "ipython",
    "version": 2
   },
   "file_extension": ".py",
   "mimetype": "text/x-python",
   "name": "python",
   "nbconvert_exporter": "python",
   "pygments_lexer": "ipython2",
   "version": "2.7.6"
  }
 },
 "nbformat": 4,
 "nbformat_minor": 5
}
