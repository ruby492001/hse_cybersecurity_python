{
 "cells": [
  {
   "cell_type": "raw",
   "source": [
    "Задание 1\n",
    "Переведите содержимое файла purchase_log.txt в словарь purchases вида:\n",
    "{'1840e0b9d4': 'Продукты', ...}"
   ],
   "metadata": {
    "collapsed": false
   },
   "id": "7676a9b865f612a4"
  },
  {
   "cell_type": "code",
   "execution_count": 34,
   "outputs": [],
   "source": [
    "import json\n",
    "\n",
    "\n",
    "file_path = 'resources/tasks_4/purchase_log.txt'\n",
    "\n",
    "def read_purchase(path: str):\n",
    "    purchases = {}\n",
    "\n",
    "    with open(file_path, 'r', encoding='utf-8') as file:\n",
    "        file.readline() #игнорим первую строчку\n",
    "        for line in file:\n",
    "            json_var = json.loads(line)\n",
    "            purchases[json_var['user_id']] = json_var['category']\n",
    "        return purchases    "
   ],
   "metadata": {
    "collapsed": false,
    "ExecuteTime": {
     "end_time": "2023-12-09T20:54:57.496341100Z",
     "start_time": "2023-12-09T20:54:57.480207900Z"
    }
   },
   "id": "3f991740b48f73e5"
  },
  {
   "cell_type": "raw",
   "source": [
    "Задание 2\n",
    "Для каждого user_id в файле visit_log.csv определите третий столбец с категорией покупки. Если покупка была, сам файл visit_log.csv изменять не надо.\n",
    "Запишите в файл funnel.csv визиты из файла visit_log.csv, в которых были покупки с указанием категории."
   ],
   "metadata": {
    "collapsed": false
   },
   "id": "470795b0b0286c78"
  },
  {
   "cell_type": "code",
   "execution_count": 36,
   "outputs": [],
   "source": [
    "import csv\n",
    "\n",
    "result_file_path = 'resources/tasks_4/funnel.csv'\n",
    "file_purchases_path = 'resources/tasks_4/purchase_log.txt'\n",
    "file_visit_path = 'resources/tasks_4/visit_log.csv'\n",
    "\n",
    "purchases_dict = read_purchase(file_purchases_path)\n",
    "\n",
    "with open(file_visit_path, 'r', encoding='utf-8', newline='') as inp_file:\n",
    "    with open(result_file_path, 'w', encoding='utf-8', newline='') as out_file:\n",
    "        inp_file.readline() #игнорим первую строчку\n",
    "        out_csv = csv.writer(out_file)\n",
    "        out_csv.writerow(['user_id', 'source', 'category'])\n",
    "        for row in csv.reader(inp_file):\n",
    "            purchases_val = purchases_dict.get(row[0], None)\n",
    "            if purchases_val:\n",
    "                out_csv.writerow([row[0], row[1],purchases_val])"
   ],
   "metadata": {
    "collapsed": false,
    "ExecuteTime": {
     "end_time": "2023-12-09T20:57:59.606759200Z",
     "start_time": "2023-12-09T20:57:58.728523300Z"
    }
   },
   "id": "7cc15b1b0ce61d84"
  }
 ],
 "metadata": {
  "kernelspec": {
   "display_name": "Python 3",
   "language": "python",
   "name": "python3"
  },
  "language_info": {
   "codemirror_mode": {
    "name": "ipython",
    "version": 2
   },
   "file_extension": ".py",
   "mimetype": "text/x-python",
   "name": "python",
   "nbconvert_exporter": "python",
   "pygments_lexer": "ipython2",
   "version": "2.7.6"
  }
 },
 "nbformat": 4,
 "nbformat_minor": 5
}
