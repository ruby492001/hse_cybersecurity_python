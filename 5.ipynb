{
 "cells": [
  {
   "cell_type": "markdown",
   "source": [
    "Задание 1\n",
    "Печатные газеты использовали свой формат дат для каждого выпуска. Для каждой газеты из списка напишите формат указанной даты для перевода в объект datetime:\n",
    "The Moscow Times - Wednesday, October 2, 2002\n",
    "The Guardian - Friday, 11.10.13\n",
    "Daily News - Thursday, 18 August 1977"
   ],
   "metadata": {
    "collapsed": false
   },
   "id": "aa7dfdda6b057b43"
  },
  {
   "cell_type": "code",
   "execution_count": null,
   "outputs": [],
   "source": [
    "from datetime import datetime as dt\n",
    "def from_the_moscow_time_format(the_moscow_timew_str_date: str) -> dt:\n",
    "    return dt.strptime(the_moscow_timew_str_date, '%A, %B %d, %Y')\n",
    "\n",
    "\n",
    "def from_the_guardian_format(the_guardian_str_date: str) -> dt:\n",
    "    return dt.strptime(the_guardian_str_date, '%A, %d.%m.%y')\n",
    "\n",
    "\n",
    "def from_daily_news_format(daily_news_str_date: str) -> dt:\n",
    "    return dt.strptime(daily_news_str_date, '%A, %d %B %Y')\n",
    "\n",
    "\n",
    "#print(from_the_moscow_time_format('Wednesday, October 2, 2002'))\n",
    "#print(from_the_guardian_format('Friday, 11.10.13'))\n",
    "#print(from_daily_news_format('Thursday, 18 August 1977'))"
   ],
   "metadata": {
    "collapsed": false
   },
   "id": "720638bee8768b1b"
  },
  {
   "cell_type": "raw",
   "source": [
    "Задание 2\n",
    "Напишите функцию date_range, которая возвращает список дат за период от start_date до end_date. Даты должны вводиться в формате YYYY-MM-DD. В случае неверного формата или при start_date > end_date должен возвращаться пустой список."
   ],
   "metadata": {
    "collapsed": false
   },
   "id": "70e49128c61862f9"
  },
  {
   "cell_type": "code",
   "execution_count": null,
   "outputs": [],
   "source": [
    "from datetime import datetime as dt\n",
    "from datetime import timedelta\n",
    "\n",
    "def date_range(start_date: str, end_date:str) -> list[ str ]:\n",
    "    try:\n",
    "        current_date_dt = dt.strptime(start_date, '%Y-%m-%d')\n",
    "        end_date_dt = dt.strptime(end_date, '%Y-%m-%d')\n",
    "        result = []\n",
    "        \n",
    "        while current_date_dt <= end_date_dt:\n",
    "            result.append(current_date_dt.strftime('%Y-%m-%d'))\n",
    "            current_date_dt += timedelta(days=1)\n",
    "            \n",
    "        return result\n",
    "    except ValueError:\n",
    "        return []\n",
    "\n",
    "\n",
    "#print(date_range('2022-01-01', '2022-01-03'))\n",
    "#print(date_range('2022-01-03', '2022-01-01'))\n",
    "#print(date_range('2022-02-30', '2022-02-31'))"
   ],
   "metadata": {
    "collapsed": false
   },
   "id": "87740d43d6089d1c"
  }
 ],
 "metadata": {
  "kernelspec": {
   "display_name": "Python 3",
   "language": "python",
   "name": "python3"
  },
  "language_info": {
   "codemirror_mode": {
    "name": "ipython",
    "version": 2
   },
   "file_extension": ".py",
   "mimetype": "text/x-python",
   "name": "python",
   "nbconvert_exporter": "python",
   "pygments_lexer": "ipython2",
   "version": "2.7.6"
  }
 },
 "nbformat": 4,
 "nbformat_minor": 5
}
