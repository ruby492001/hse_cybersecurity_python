{
 "cells": [
  {
   "cell_type": "code",
   "execution_count": null,
   "id": "initial_id",
   "metadata": {
    "collapsed": true
   },
   "outputs": [],
   "source": [
    "from enum import Enum\n",
    "from decimal import Decimal\n",
    "import json \n",
    "\n",
    "\"\"\"Объединение, описывающее базовые операции над счётом\"\"\"\n",
    "class OperationType(Enum):\n",
    "    Decrease = 'Decrease'\n",
    "    Increase = 'Increase'\n",
    "    \n",
    "    \n",
    "\"\"\"Объединение, описывающее наименования полей в JSON\"\"\"\n",
    "class JsonFieldName(Enum):\n",
    "    Actions = 'actions'\n",
    "    Action = 'action'\n",
    "    Value = 'value'\n",
    "    \n",
    "    \n",
    "\"\"\"Небольшая оговорка: в задании написано следующее: 'создание банковского аккаунта с параметрами: имя, стартовый баланс с которым зарегистрирован аккаунт, история операций'. Данную фразу я интерпретирую следующем образом: в класс передается баланс при создании аккаунта и операции, которые были с ним совершены. Т.е, текущий баланс == баланс при создании аккаунта + все изменения, которые произошли с аккаунтом(т.е. история изменений). Не очень понятно, зачем в такой модели стартовый баланс(который, очевидно, при создании счета равен 0) но это, видимо, нужно для тех случаев, когда задача решается без дополнительного задания(истории операций)\"\"\"\n",
    "\n",
    "class Account:     \n",
    "    def __init__(self, name: str, start_balance: Decimal = Decimal('0.00'), history_json_str: str = '{\"actions\":[]}'):\n",
    "        self.__name = name\n",
    "        self.__history = json.loads(history_json_str)\n",
    "        self.__current_balance = start_balance\n",
    "        self.__calculate_balance_from_history()\n",
    "        \n",
    "    \n",
    "    def get_balance(self) -> Decimal:\n",
    "        return self.__current_balance\n",
    "        \n",
    "    def get_history(self) -> str:\n",
    "        return json.dumps(self.__history)\n",
    "    \n",
    "    \n",
    "    \"\"\"Увеличивает баланс счёта\"\"\"\n",
    "    def increase_balance(self, value: Decimal) -> None:\n",
    "        self.__current_balance += value\n",
    "        self.__add_to_history(OperationType.Increase, value)\n",
    "        \n",
    "    \"\"\"Уменьшает баланс счёта\"\"\"\n",
    "    def decrease_balance(self, value: Decimal) ->None:\n",
    "        if self.__current_balance - value < 0:\n",
    "            raise ValueError('Not enough money')\n",
    "        \n",
    "        self.__current_balance -= value\n",
    "        self.__add_to_history(OperationType.Decrease, value)\n",
    "        \n",
    "\n",
    "    def __calculate_balance_from_history(self) -> None:\n",
    "        for action in self.__history[JsonFieldName.Actions.value]:\n",
    "            if action[JsonFieldName.Action.value] == OperationType.Decrease.value:\n",
    "                self.__current_balance -= Decimal(action[JsonFieldName.Value.value])\n",
    "            if action[JsonFieldName.Action.value] == OperationType.Increase.value:            \n",
    "                self.__current_balance += Decimal(action[JsonFieldName.Value.value])\n",
    "\n",
    "\n",
    "    def __add_to_history(self, operation_type: OperationType, value: Decimal):\n",
    "        new_record = {JsonFieldName.Action.value: operation_type.value, JsonFieldName.Value.value: str(value)}\n",
    "        self.__history[JsonFieldName.Actions.value].append(new_record)"
   ]
  },
  {
   "cell_type": "raw",
   "source": [
    "Демонстрации работы"
   ],
   "metadata": {
    "collapsed": false
   },
   "id": "758ca20724682f76"
  },
  {
   "cell_type": "code",
   "execution_count": null,
   "outputs": [],
   "source": [
    "# демонстрация первичного созданий счета\n",
    "account_1 = Account('Fedor') \n",
    "account_1.increase_balance(Decimal('60000.00'))\n",
    "account_1.decrease_balance(Decimal('30000.00'))\n",
    "account_1.increase_balance(Decimal('5000.00'))\n",
    "account_1.decrease_balance(Decimal('12345.22'))\n",
    "\n",
    "print(account_1.get_balance())\n",
    "\n",
    "# типа сохранили историю операций в БД\n",
    "emulate_database_cell = account_1.get_history()"
   ],
   "metadata": {
    "collapsed": false
   },
   "id": "566a76ddc3e507a4"
  },
  {
   "cell_type": "code",
   "execution_count": null,
   "outputs": [],
   "source": [
    "# восстановление текущего баланса из истории операций\n",
    "account_1_restored = Account('Fedor', history_json_str=emulate_database_cell)\n",
    "print(account_1_restored.get_balance())\n",
    "account_1_restored.increase_balance(Decimal('12345.22'))\n",
    "account_1_restored.decrease_balance(Decimal('10200.00'))\n",
    "print(account_1_restored.get_balance())"
   ],
   "metadata": {
    "collapsed": false
   },
   "id": "ee39e1a3602da9b"
  },
  {
   "cell_type": "code",
   "execution_count": null,
   "outputs": [],
   "source": [
    "# создание счета с начальным балансом\n",
    "account_2 = Account('Vladimir', Decimal('500.00')) \n",
    "account_2.increase_balance(Decimal('60000.00'))\n",
    "account_2.decrease_balance(Decimal('30000.00'))\n",
    "account_2.increase_balance(Decimal('5000.00'))\n",
    "account_2.decrease_balance(Decimal('12345.00'))\n",
    "print(account_2.get_balance())"
   ],
   "metadata": {
    "collapsed": false
   },
   "id": "da074bf9eb0dbc29"
  }
 ],
 "metadata": {
  "kernelspec": {
   "display_name": "Python 3",
   "language": "python",
   "name": "python3"
  },
  "language_info": {
   "codemirror_mode": {
    "name": "ipython",
    "version": 2
   },
   "file_extension": ".py",
   "mimetype": "text/x-python",
   "name": "python",
   "nbconvert_exporter": "python",
   "pygments_lexer": "ipython2",
   "version": "2.7.6"
  }
 },
 "nbformat": 4,
 "nbformat_minor": 5
}
