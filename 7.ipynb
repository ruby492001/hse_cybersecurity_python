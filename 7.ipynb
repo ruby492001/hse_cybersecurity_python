{
 "cells": [
  {
   "cell_type": "code",
   "execution_count": null,
   "outputs": [],
   "source": [
    "import re\n",
    "\n",
    "def validate_car_id(car_id):\n",
    "    # согласно Википедии допустимо использовать буквы: АВЕКМНОРСТУХ\n",
    "    valid = re.match(r'\\b[АВЕКМНОРСТУХ]{1}\\d{3}[АВЕКМНОРСТУХ]{2}\\d{2,3}\\Z',car_id)\n",
    "    \n",
    "    if valid:\n",
    "       num = re.findall(r'[АВЕКМНОРСТУХ]{1}\\d{3}[АВЕКМНОРСТУХ]{2}',car_id)\n",
    "       region = re.findall(r'\\d{2,3}\\Z',car_id)\n",
    "       return f\"Номер {num[0]} валиден. Регион: {region[0]}.\"\n",
    "    else:\n",
    "        return \"Номер не валиден.\"\n",
    "\n",
    "\n",
    "print(validate_car_id('А222ВС96'))\n",
    "print(validate_car_id('АБ22ВВ193'))"
   ],
   "metadata": {
    "collapsed": false
   },
   "id": "ca7aeb6471287029"
  }
 ],
 "metadata": {
  "kernelspec": {
   "display_name": "Python 3",
   "language": "python",
   "name": "python3"
  },
  "language_info": {
   "codemirror_mode": {
    "name": "ipython",
    "version": 2
   },
   "file_extension": ".py",
   "mimetype": "text/x-python",
   "name": "python",
   "nbconvert_exporter": "python",
   "pygments_lexer": "ipython2",
   "version": "2.7.6"
  }
 },
 "nbformat": 4,
 "nbformat_minor": 5
}
